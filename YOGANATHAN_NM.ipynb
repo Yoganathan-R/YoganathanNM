{
  "nbformat": 4,
  "nbformat_minor": 0,
  "metadata": {
    "colab": {
      "provenance": []
    },
    "kernelspec": {
      "name": "python3",
      "display_name": "Python 3"
    },
    "language_info": {
      "name": "python"
    }
  },
  "cells": [
    {
      "cell_type": "code",
      "execution_count": 1,
      "metadata": {
        "id": "8izfoA3dFNoc"
      },
      "outputs": [],
      "source": [
        "import pandas as pd\n",
        "from sklearn.model_selection import train_test_split\n",
        "from sklearn.preprocessing import StandardScaler\n",
        "import tensorflow as tf\n",
        "from tensorflow.keras.models import Sequential\n",
        "from tensorflow.keras.layers import Conv1D, MaxPooling1D, Flatten, Dense, LSTM\n"
      ]
    },
    {
      "cell_type": "code",
      "source": [
        "data = pd.read_csv(\"heart_disease_record.csv\")\n"
      ],
      "metadata": {
        "id": "uN3-ThVhGleM"
      },
      "execution_count": 3,
      "outputs": []
    },
    {
      "cell_type": "code",
      "source": [
        "X = data.drop(columns=['target'])\n",
        "y = data['target']\n",
        "X_train, X_test, y_train, y_test = train_test_split(X, y, test_size=0.2, random_state=42)\n"
      ],
      "metadata": {
        "id": "enZPsxJvHSvb"
      },
      "execution_count": 4,
      "outputs": []
    },
    {
      "cell_type": "code",
      "source": [
        "scaler = StandardScaler()\n",
        "X_train_scaled = scaler.fit_transform(X_train)\n",
        "X_test_scaled = scaler.transform(X_test)\n"
      ],
      "metadata": {
        "id": "91hQ1IKSHed4"
      },
      "execution_count": 5,
      "outputs": []
    },
    {
      "cell_type": "code",
      "source": [
        "X_train_cnn = X_train_scaled.reshape((X_train_scaled.shape[0], X_train_scaled.shape[1], 1))\n",
        "X_test_cnn = X_test_scaled.reshape((X_test_scaled.shape[0], X_test_scaled.shape[1], 1))\n"
      ],
      "metadata": {
        "id": "YGVy4WQ-IUte"
      },
      "execution_count": 6,
      "outputs": []
    },
    {
      "cell_type": "markdown",
      "source": [
        "CNN"
      ],
      "metadata": {
        "id": "3_Bcb4iSQZId"
      }
    },
    {
      "cell_type": "code",
      "source": [
        "model_cnn = Sequential([\n",
        "    Conv1D(filters=64, kernel_size=3, activation='relu', input_shape=(X_train_cnn.shape[1], 1)),\n",
        "    MaxPooling1D(pool_size=2),\n",
        "    Flatten(),\n",
        "    Dense(64, activation='relu'),\n",
        "    Dense(1, activation='sigmoid')\n",
        "])\n",
        "\n",
        "model_cnn.compile(optimizer='adam', loss='binary_crossentropy', metrics=['accuracy'])\n",
        "model_cnn.fit(X_train_cnn, y_train, epochs=5, batch_size=32, validation_data=(X_test_cnn, y_test))\n"
      ],
      "metadata": {
        "colab": {
          "base_uri": "https://localhost:8080/"
        },
        "id": "PtI7bJJPIksz",
        "outputId": "ce88a9c7-7605-4746-b039-6ded4dd47271"
      },
      "execution_count": 7,
      "outputs": [
        {
          "output_type": "stream",
          "name": "stdout",
          "text": [
            "Epoch 1/5\n",
            "30/30 [==============================] - 3s 36ms/step - loss: 0.5439 - accuracy: 0.7553 - val_loss: 0.4129 - val_accuracy: 0.8235\n",
            "Epoch 2/5\n",
            "30/30 [==============================] - 0s 10ms/step - loss: 0.4227 - accuracy: 0.8036 - val_loss: 0.3848 - val_accuracy: 0.8319\n",
            "Epoch 3/5\n",
            "30/30 [==============================] - 0s 8ms/step - loss: 0.4109 - accuracy: 0.8141 - val_loss: 0.3762 - val_accuracy: 0.8361\n",
            "Epoch 4/5\n",
            "30/30 [==============================] - 0s 9ms/step - loss: 0.4016 - accuracy: 0.8214 - val_loss: 0.3798 - val_accuracy: 0.8361\n",
            "Epoch 5/5\n",
            "30/30 [==============================] - 0s 7ms/step - loss: 0.3982 - accuracy: 0.8267 - val_loss: 0.3750 - val_accuracy: 0.8319\n"
          ]
        },
        {
          "output_type": "execute_result",
          "data": {
            "text/plain": [
              "<keras.src.callbacks.History at 0x7b2ba10e1930>"
            ]
          },
          "metadata": {},
          "execution_count": 7
        }
      ]
    },
    {
      "cell_type": "code",
      "source": [
        "X_train_rnn = X_train_scaled.reshape((X_train_scaled.shape[0], 1, X_train_scaled.shape[1]))\n",
        "X_test_rnn = X_test_scaled.reshape((X_test_scaled.shape[0], 1, X_test_scaled.shape[1]))\n"
      ],
      "metadata": {
        "id": "yDwfakMQIpMW"
      },
      "execution_count": 8,
      "outputs": []
    },
    {
      "cell_type": "markdown",
      "source": [
        "RNN"
      ],
      "metadata": {
        "id": "N39ky95TQbwO"
      }
    },
    {
      "cell_type": "code",
      "source": [
        "model_rnn = Sequential([\n",
        "    LSTM(64, input_shape=(X_train_rnn.shape[1], X_train_rnn.shape[2])),\n",
        "    Dense(1, activation='sigmoid')\n",
        "])\n",
        "\n",
        "model_rnn.compile(optimizer='adam', loss='binary_crossentropy', metrics=['accuracy'])\n",
        "model_rnn.fit(X_train_rnn, y_train, epochs=5, batch_size=32, validation_data=(X_test_rnn, y_test))\n"
      ],
      "metadata": {
        "colab": {
          "base_uri": "https://localhost:8080/"
        },
        "id": "tSCJmYU1ItYQ",
        "outputId": "4fab05f6-7da2-44af-9f02-146c025d41a3"
      },
      "execution_count": 9,
      "outputs": [
        {
          "output_type": "stream",
          "name": "stdout",
          "text": [
            "Epoch 1/5\n",
            "30/30 [==============================] - 3s 25ms/step - loss: 0.6571 - accuracy: 0.6901 - val_loss: 0.6024 - val_accuracy: 0.8319\n",
            "Epoch 2/5\n",
            "30/30 [==============================] - 0s 5ms/step - loss: 0.5644 - accuracy: 0.8109 - val_loss: 0.5162 - val_accuracy: 0.8487\n",
            "Epoch 3/5\n",
            "30/30 [==============================] - 0s 5ms/step - loss: 0.4892 - accuracy: 0.8172 - val_loss: 0.4509 - val_accuracy: 0.8403\n",
            "Epoch 4/5\n",
            "30/30 [==============================] - 0s 7ms/step - loss: 0.4385 - accuracy: 0.8204 - val_loss: 0.4091 - val_accuracy: 0.8403\n",
            "Epoch 5/5\n",
            "30/30 [==============================] - 0s 9ms/step - loss: 0.4101 - accuracy: 0.8298 - val_loss: 0.3850 - val_accuracy: 0.8613\n"
          ]
        },
        {
          "output_type": "execute_result",
          "data": {
            "text/plain": [
              "<keras.src.callbacks.History at 0x7b2af8e6e500>"
            ]
          },
          "metadata": {},
          "execution_count": 9
        }
      ]
    },
    {
      "cell_type": "markdown",
      "source": [
        "ANN"
      ],
      "metadata": {
        "id": "q8JFyWpHQeAU"
      }
    },
    {
      "cell_type": "code",
      "source": [
        "model_ann = Sequential([\n",
        "    Dense(64, activation='relu', input_shape=(X_train_scaled.shape[1],)),\n",
        "    Dense(32, activation='relu'),\n",
        "    Dense(1, activation='sigmoid')\n",
        "])\n",
        "\n",
        "model_ann.compile(optimizer='adam', loss='binary_crossentropy', metrics=['accuracy'])\n",
        "model_ann.fit(X_train_scaled, y_train, epochs=5, batch_size=32, validation_data=(X_test_scaled, y_test))\n"
      ],
      "metadata": {
        "colab": {
          "base_uri": "https://localhost:8080/"
        },
        "id": "ONxpoaZoIwu5",
        "outputId": "deaa86d6-198e-4b0d-de17-dda16817066d"
      },
      "execution_count": 10,
      "outputs": [
        {
          "output_type": "stream",
          "name": "stdout",
          "text": [
            "Epoch 1/5\n",
            "30/30 [==============================] - 1s 9ms/step - loss: 0.5631 - accuracy: 0.7500 - val_loss: 0.4589 - val_accuracy: 0.8361\n",
            "Epoch 2/5\n",
            "30/30 [==============================] - 0s 4ms/step - loss: 0.4243 - accuracy: 0.8141 - val_loss: 0.3924 - val_accuracy: 0.8403\n",
            "Epoch 3/5\n",
            "30/30 [==============================] - 0s 4ms/step - loss: 0.3903 - accuracy: 0.8235 - val_loss: 0.3741 - val_accuracy: 0.8403\n",
            "Epoch 4/5\n",
            "30/30 [==============================] - 0s 4ms/step - loss: 0.3746 - accuracy: 0.8288 - val_loss: 0.3639 - val_accuracy: 0.8487\n",
            "Epoch 5/5\n",
            "30/30 [==============================] - 0s 4ms/step - loss: 0.3640 - accuracy: 0.8372 - val_loss: 0.3555 - val_accuracy: 0.8571\n"
          ]
        },
        {
          "output_type": "execute_result",
          "data": {
            "text/plain": [
              "<keras.src.callbacks.History at 0x7b2af8ab9960>"
            ]
          },
          "metadata": {},
          "execution_count": 10
        }
      ]
    }
  ]
}